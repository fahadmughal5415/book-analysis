{
 "cells": [
  {
   "cell_type": "markdown",
   "id": "9fd39d4e-d4e3-48e8-8752-1dd93a8c1cdf",
   "metadata": {},
   "source": [
    "# Book Analysis Using Regular Expressions (Regex)"
   ]
  },
  {
   "cell_type": "markdown",
   "id": "51d12211-fd96-4207-998c-17b10a0afbdf",
   "metadata": {},
   "source": [
    "## Open the Book"
   ]
  },
  {
   "cell_type": "code",
   "execution_count": 13,
   "id": "3f569091-d6e6-4c64-a39c-e75bb4d8c5c8",
   "metadata": {},
   "outputs": [],
   "source": [
    "with open(\"miracle_in_the_andes.txt\", \"r\") as file:\n",
    "    book = file.read()"
   ]
  },
  {
   "cell_type": "markdown",
   "id": "f7890778-0baf-42ed-8584-4d49f4a9501c",
   "metadata": {},
   "source": [
    "# How many chapters?"
   ]
  },
  {
   "cell_type": "markdown",
   "id": "26a2ad58-607a-49bd-8a2b-cf6686a69269",
   "metadata": {},
   "source": [
    "### Using the String method"
   ]
  },
  {
   "cell_type": "code",
   "execution_count": 14,
   "id": "fcac31d9-3e95-4a9e-b1ea-74e2a532c26d",
   "metadata": {},
   "outputs": [
    {
     "data": {
      "text/plain": [
       "11"
      ]
     },
     "execution_count": 14,
     "metadata": {},
     "output_type": "execute_result"
    }
   ],
   "source": [
    "book.count(\"Chapter\")"
   ]
  },
  {
   "cell_type": "markdown",
   "id": "4559b10e-1e9b-41c6-bead-ec14108b08ef",
   "metadata": {},
   "source": [
    "### Using the Regular Expressions or Regex"
   ]
  },
  {
   "cell_type": "code",
   "execution_count": 15,
   "id": "56156613-572d-46e3-be50-63f2352a4532",
   "metadata": {},
   "outputs": [],
   "source": [
    "import re\n",
    "pattern = re.compile(\"Chapter [0-9]+\")\n",
    "finding = re.findall(pattern, book)"
   ]
  },
  {
   "cell_type": "code",
   "execution_count": 16,
   "id": "1dce36e1-10a5-4ccd-a3ed-1d6b1083dd01",
   "metadata": {},
   "outputs": [
    {
     "data": {
      "text/plain": [
       "['Chapter 1',\n",
       " 'Chapter 2',\n",
       " 'Chapter 3',\n",
       " 'Chapter 4',\n",
       " 'Chapter 5',\n",
       " 'Chapter 6',\n",
       " 'Chapter 7',\n",
       " 'Chapter 8',\n",
       " 'Chapter 9',\n",
       " 'Chapter 10']"
      ]
     },
     "execution_count": 16,
     "metadata": {},
     "output_type": "execute_result"
    }
   ],
   "source": [
    "finding"
   ]
  },
  {
   "cell_type": "code",
   "execution_count": 17,
   "id": "7c657f12-b9ff-43cd-9284-5e427e399e6a",
   "metadata": {},
   "outputs": [
    {
     "data": {
      "text/plain": [
       "10"
      ]
     },
     "execution_count": 17,
     "metadata": {},
     "output_type": "execute_result"
    }
   ],
   "source": [
    "len(finding)"
   ]
  }
 ],
 "metadata": {
  "kernelspec": {
   "display_name": "Python 3 (ipykernel)",
   "language": "python",
   "name": "python3"
  },
  "language_info": {
   "codemirror_mode": {
    "name": "ipython",
    "version": 3
   },
   "file_extension": ".py",
   "mimetype": "text/x-python",
   "name": "python",
   "nbconvert_exporter": "python",
   "pygments_lexer": "ipython3",
   "version": "3.12.5"
  }
 },
 "nbformat": 4,
 "nbformat_minor": 5
}
