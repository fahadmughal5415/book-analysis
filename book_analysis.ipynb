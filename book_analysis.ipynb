{
 "cells": [
  {
   "cell_type": "markdown",
   "id": "9fd39d4e-d4e3-48e8-8752-1dd93a8c1cdf",
   "metadata": {},
   "source": [
    "# Book Analysis Using Regular Expressions (Regex)"
   ]
  },
  {
   "cell_type": "markdown",
   "id": "51d12211-fd96-4207-998c-17b10a0afbdf",
   "metadata": {},
   "source": [
    "## Open the Book"
   ]
  },
  {
   "cell_type": "code",
   "execution_count": 1,
   "id": "3f569091-d6e6-4c64-a39c-e75bb4d8c5c8",
   "metadata": {},
   "outputs": [],
   "source": [
    "with open(\"miracle_in_the_andes.txt\", \"r\") as file:\n",
    "    book = file.read()"
   ]
  },
  {
   "cell_type": "markdown",
   "id": "f7890778-0baf-42ed-8584-4d49f4a9501c",
   "metadata": {},
   "source": [
    "# How many chapters?"
   ]
  },
  {
   "cell_type": "markdown",
   "id": "26a2ad58-607a-49bd-8a2b-cf6686a69269",
   "metadata": {},
   "source": [
    "### Using the String method"
   ]
  },
  {
   "cell_type": "code",
   "execution_count": 2,
   "id": "fcac31d9-3e95-4a9e-b1ea-74e2a532c26d",
   "metadata": {},
   "outputs": [
    {
     "data": {
      "text/plain": [
       "11"
      ]
     },
     "execution_count": 2,
     "metadata": {},
     "output_type": "execute_result"
    }
   ],
   "source": [
    "book.count(\"Chapter\")"
   ]
  },
  {
   "cell_type": "markdown",
   "id": "4559b10e-1e9b-41c6-bead-ec14108b08ef",
   "metadata": {},
   "source": [
    "### Using the Regular Expressions or Regex"
   ]
  },
  {
   "cell_type": "code",
   "execution_count": 3,
   "id": "56156613-572d-46e3-be50-63f2352a4532",
   "metadata": {},
   "outputs": [],
   "source": [
    "import re\n",
    "pattern = re.compile(\"Chapter [0-9]+\")\n",
    "findings = re.findall(pattern, book)"
   ]
  },
  {
   "cell_type": "code",
   "execution_count": 4,
   "id": "7c657f12-b9ff-43cd-9284-5e427e399e6a",
   "metadata": {},
   "outputs": [
    {
     "data": {
      "text/plain": [
       "10"
      ]
     },
     "execution_count": 4,
     "metadata": {},
     "output_type": "execute_result"
    }
   ],
   "source": [
    "len(findings)"
   ]
  },
  {
   "cell_type": "markdown",
   "id": "b972a55e-477f-4489-9d85-43e010acb24a",
   "metadata": {},
   "source": [
    "## Which are the sentences where \"love\" was used?"
   ]
  },
  {
   "cell_type": "code",
   "execution_count": 5,
   "id": "a08da908-25e1-4b0b-8af6-3d57276b9a17",
   "metadata": {},
   "outputs": [],
   "source": [
    "pattern = re.compile(\"[A-Z]{1}[^.]*[^a-zA-Z]+love[^a-zA-Z]+[^.]*.\")\n",
    "findings = re.findall(pattern, book)"
   ]
  },
  {
   "cell_type": "code",
   "execution_count": 6,
   "id": "f68aae05-2975-4743-8a4c-3d2d7a933c6d",
   "metadata": {},
   "outputs": [
    {
     "data": {
      "text/plain": [
       "67"
      ]
     },
     "execution_count": 6,
     "metadata": {},
     "output_type": "execute_result"
    }
   ],
   "source": [
    "len(findings)"
   ]
  },
  {
   "cell_type": "markdown",
   "id": "82a1c560-71d3-44a3-86a1-dab4830bc232",
   "metadata": {},
   "source": [
    "# Which are the sentences where \"morning\" was used?"
   ]
  },
  {
   "cell_type": "code",
   "execution_count": 7,
   "id": "a3e5001b-f729-47c1-82c1-2931e5c4b4ec",
   "metadata": {},
   "outputs": [],
   "source": [
    "pattern = re.compile(\"[A-Z]{1}[^.]*[^a-zA-Z]+morning[^a-zA-Z]+[^.]*.\")\n",
    "findings = re.findall(pattern, book)"
   ]
  },
  {
   "cell_type": "code",
   "execution_count": 9,
   "id": "a823b4d2-24f1-48ab-9047-8e121991a6c9",
   "metadata": {
    "scrolled": true
   },
   "outputs": [
    {
     "data": {
      "text/plain": [
       "61"
      ]
     },
     "execution_count": 9,
     "metadata": {},
     "output_type": "execute_result"
    }
   ],
   "source": [
    "len(findings)"
   ]
  }
 ],
 "metadata": {
  "kernelspec": {
   "display_name": "Python 3 (ipykernel)",
   "language": "python",
   "name": "python3"
  },
  "language_info": {
   "codemirror_mode": {
    "name": "ipython",
    "version": 3
   },
   "file_extension": ".py",
   "mimetype": "text/x-python",
   "name": "python",
   "nbconvert_exporter": "python",
   "pygments_lexer": "ipython3",
   "version": "3.12.5"
  }
 },
 "nbformat": 4,
 "nbformat_minor": 5
}
