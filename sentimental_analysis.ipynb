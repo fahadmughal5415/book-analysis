{
 "cells": [
  {
   "cell_type": "markdown",
   "id": "93a69a45-54f1-4b6d-bc43-7e222ef6e58e",
   "metadata": {},
   "source": [
    "# What are the most used words (Non-article)"
   ]
  },
  {
   "cell_type": "code",
   "execution_count": 1,
   "id": "04eca4c4-e878-482d-b24b-32d1b1ad762f",
   "metadata": {},
   "outputs": [],
   "source": [
    "with open(\"miracle_in_the_andes.txt\", \"r\") as file:\n",
    "    book = file.read()"
   ]
  },
  {
   "cell_type": "code",
   "execution_count": 2,
   "id": "3ba5a5c9-51b3-41d3-81a4-40cc91929532",
   "metadata": {},
   "outputs": [],
   "source": [
    "import re"
   ]
  },
  {
   "cell_type": "code",
   "execution_count": 3,
   "id": "44ce341d-9692-4322-9e2e-e8973f39b180",
   "metadata": {},
   "outputs": [
    {
     "data": {
      "text/plain": [
       "['chapter', 'before', 'it', 'was', 'friday']"
      ]
     },
     "execution_count": 3,
     "metadata": {},
     "output_type": "execute_result"
    }
   ],
   "source": [
    "pattern = re.compile(\"[a-zA-Z]+\")\n",
    "findings = re.findall(pattern, book.lower())\n",
    "findings[:5]"
   ]
  },
  {
   "cell_type": "code",
   "execution_count": 4,
   "id": "978dd177-0d9c-4076-b611-b8b332b31f92",
   "metadata": {},
   "outputs": [
    {
     "data": {
      "text/plain": [
       "[(5346, 'the'), (2795, 'and'), (2729, 'i'), (2400, 'to'), (2060, 'of')]"
      ]
     },
     "execution_count": 4,
     "metadata": {},
     "output_type": "execute_result"
    }
   ],
   "source": [
    "d = {}\n",
    "for word in findings:\n",
    "    if word in d.keys():\n",
    "        d[word] = d[word] + 1\n",
    "    else:\n",
    "        d[word] = 1\n",
    "\n",
    "d_list = [(value, key) for (key, value) in d.items()]\n",
    "word_list = sorted(d_list, reverse=True)\n",
    "word_list[:5]"
   ]
  },
  {
   "cell_type": "code",
   "execution_count": 5,
   "id": "0e07107f-3d74-4913-8046-eb5cb4b5fea3",
   "metadata": {},
   "outputs": [
    {
     "name": "stdout",
     "output_type": "stream",
     "text": [
      "3.12.5\n"
     ]
    }
   ],
   "source": [
    "from platform import python_version\n",
    "print(python_version())"
   ]
  },
  {
   "cell_type": "markdown",
   "id": "79721466-6819-44cb-9822-3fa41567789f",
   "metadata": {},
   "source": [
    "# Installing the nltk liabrary"
   ]
  },
  {
   "cell_type": "code",
   "execution_count": 6,
   "id": "745350ed-db1d-4f5b-92ae-61cab013764e",
   "metadata": {},
   "outputs": [
    {
     "name": "stdout",
     "output_type": "stream",
     "text": [
      "Requirement already satisfied: nltk in /Library/Frameworks/Python.framework/Versions/3.12/lib/python3.12/site-packages (3.9.1)\n",
      "Requirement already satisfied: click in /Library/Frameworks/Python.framework/Versions/3.12/lib/python3.12/site-packages (from nltk) (8.1.8)\n",
      "Requirement already satisfied: joblib in /Library/Frameworks/Python.framework/Versions/3.12/lib/python3.12/site-packages (from nltk) (1.4.2)\n",
      "Requirement already satisfied: regex>=2021.8.3 in /Library/Frameworks/Python.framework/Versions/3.12/lib/python3.12/site-packages (from nltk) (2024.11.6)\n",
      "Requirement already satisfied: tqdm in /Library/Frameworks/Python.framework/Versions/3.12/lib/python3.12/site-packages (from nltk) (4.67.1)\n",
      "\n",
      "\u001b[1m[\u001b[0m\u001b[34;49mnotice\u001b[0m\u001b[1;39;49m]\u001b[0m\u001b[39;49m A new release of pip is available: \u001b[0m\u001b[31;49m24.2\u001b[0m\u001b[39;49m -> \u001b[0m\u001b[32;49m25.0\u001b[0m\n",
      "\u001b[1m[\u001b[0m\u001b[34;49mnotice\u001b[0m\u001b[1;39;49m]\u001b[0m\u001b[39;49m To update, run: \u001b[0m\u001b[32;49mpip3 install --upgrade pip\u001b[0m\n"
     ]
    }
   ],
   "source": [
    "!pip3.12 install nltk"
   ]
  },
  {
   "cell_type": "code",
   "execution_count": 7,
   "id": "51c460b8-1e8f-4789-a2ff-0be8af213020",
   "metadata": {},
   "outputs": [],
   "source": [
    "import nltk\n",
    "from nltk.corpus import stopwords\n",
    "english_stopwords = stopwords.words(\"english\")"
   ]
  },
  {
   "cell_type": "code",
   "execution_count": 8,
   "id": "08a4c277-fa63-4253-a2a9-8c2ca7d2d2ee",
   "metadata": {},
   "outputs": [
    {
     "data": {
      "text/plain": [
       "[('would', 575), ('us', 519), ('said', 292), ('roberto', 284), ('could', 252)]"
      ]
     },
     "execution_count": 8,
     "metadata": {},
     "output_type": "execute_result"
    }
   ],
   "source": [
    "filtered_words = []\n",
    "for count, word in word_list:\n",
    "    if word not in english_stopwords:\n",
    "        filtered_words.append((word,count))\n",
    "filtered_words[:5]"
   ]
  },
  {
   "cell_type": "markdown",
   "id": "848991d8-c9a0-46f3-9819-c00e1310bad9",
   "metadata": {},
   "source": [
    "# Sentiment Analysis: What is the most positive and most negative chapter?"
   ]
  },
  {
   "cell_type": "code",
   "execution_count": 9,
   "id": "02066b25-4d5c-474a-a230-0f21622a0309",
   "metadata": {},
   "outputs": [],
   "source": [
    "from nltk.sentiment import SentimentIntensityAnalyzer\n",
    "analyzer = SentimentIntensityAnalyzer()"
   ]
  },
  {
   "cell_type": "code",
   "execution_count": 10,
   "id": "c94fed37-2b36-4b0b-9183-f6e5e107c2f3",
   "metadata": {},
   "outputs": [],
   "source": [
    "text_score = analyzer.polarity_scores(\"Trees are very bad. I hate them, really hate them.\")"
   ]
  },
  {
   "cell_type": "code",
   "execution_count": 11,
   "id": "9b7d9877-a21f-4156-900d-c0fde33b6b36",
   "metadata": {},
   "outputs": [
    {
     "data": {
      "text/plain": [
       "{'neg': 0.701, 'neu': 0.299, 'pos': 0.0, 'compound': -0.9144}"
      ]
     },
     "execution_count": 11,
     "metadata": {},
     "output_type": "execute_result"
    }
   ],
   "source": [
    "text_score"
   ]
  },
  {
   "cell_type": "markdown",
   "id": "ddb95013-eab7-4a53-b2d0-1c4371deaa72",
   "metadata": {},
   "source": [
    "# Book Analysis"
   ]
  },
  {
   "cell_type": "code",
   "execution_count": 14,
   "id": "b15a6869-8861-4948-92e4-dc7f859495f8",
   "metadata": {},
   "outputs": [
    {
     "data": {
      "text/plain": [
       "{'neg': 0.116, 'neu': 0.76, 'pos': 0.125, 'compound': 1.0}"
      ]
     },
     "execution_count": 14,
     "metadata": {},
     "output_type": "execute_result"
    }
   ],
   "source": [
    "book_score = analyzer.polarity_scores(book)\n",
    "book_score"
   ]
  },
  {
   "cell_type": "markdown",
   "id": "cf962d3d-da3b-4c57-8c64-bcbdbb62004c",
   "metadata": {},
   "source": [
    "# Chapter Analysis"
   ]
  },
  {
   "cell_type": "code",
   "execution_count": null,
   "id": "11c0569d-bd59-4a7b-998e-32898f537093",
   "metadata": {},
   "outputs": [],
   "source": [
    "import re\n",
    "pattern = re.compile(\"Chapter [1-9]+\")\n",
    "chapters = re.split(pattern, book)"
   ]
  },
  {
   "cell_type": "code",
   "execution_count": null,
   "id": "b9a563ed-d4bb-4053-af2e-631e3036a123",
   "metadata": {},
   "outputs": [],
   "source": [
    "len(chapters)"
   ]
  },
  {
   "cell_type": "code",
   "execution_count": null,
   "id": "57442131-f106-4fc6-8803-33a1c9880a5f",
   "metadata": {},
   "outputs": [],
   "source": [
    "chapters = chapters[1:]\n",
    "len(chapters)"
   ]
  },
  {
   "cell_type": "code",
   "execution_count": null,
   "id": "16630b80-a5ab-49b1-b0e9-5dab79447538",
   "metadata": {},
   "outputs": [],
   "source": [
    "for index, chapter in enumerate(chapters):\n",
    "    chapters_score = analyzer.polarity_scores(chapter)\n",
    "    print(f\"Chapter: {index + 1} {chapters_score}\")"
   ]
  },
  {
   "cell_type": "code",
   "execution_count": null,
   "id": "8ee52ac2-380f-4007-9da0-f13712c8d998",
   "metadata": {},
   "outputs": [],
   "source": []
  }
 ],
 "metadata": {
  "kernelspec": {
   "display_name": "Python 3 (ipykernel)",
   "language": "python",
   "name": "python3"
  },
  "language_info": {
   "codemirror_mode": {
    "name": "ipython",
    "version": 3
   },
   "file_extension": ".py",
   "mimetype": "text/x-python",
   "name": "python",
   "nbconvert_exporter": "python",
   "pygments_lexer": "ipython3",
   "version": "3.12.5"
  }
 },
 "nbformat": 4,
 "nbformat_minor": 5
}
